{
 "cells": [
  {
   "cell_type": "markdown",
   "metadata": {},
   "source": []
  },
  {
   "cell_type": "code",
   "execution_count": 3,
   "metadata": {},
   "outputs": [],
   "source": [
    "from tool import get_soup\n",
    "resp=get_soup('https://246.swcb.gov.tw/Achievement/StatictiesDisasters')"
   ]
  },
  {
   "cell_type": "code",
   "execution_count": 24,
   "metadata": {},
   "outputs": [
    {
     "name": "stdout",
     "output_type": "stream",
     "text": [
      "26 346\n"
     ]
    }
   ],
   "source": [
    "tbody = resp.find('tbody')\n",
    "tr = tbody.find_all('tr')\n",
    "data = []\n",
    "link = []\n",
    "for i in tr:\n",
    "    body = []\n",
    "    td = i.find_all('td')\n",
    "    for j in td:\n",
    "        if j.find('a'):\n",
    "            link.append(j.a['href'])\n",
    "            \n",
    "        body.append(j.text)\n",
    "    data.append(body)\n",
    "\n",
    "print(len(data[0]),len(link))"
   ]
  },
  {
   "cell_type": "code",
   "execution_count": 25,
   "metadata": {},
   "outputs": [
    {
     "data": {
      "text/plain": [
       "26"
      ]
     },
     "execution_count": 25,
     "metadata": {},
     "output_type": "execute_result"
    }
   ],
   "source": [
    "# 順序 年度 災害事件 名稱 崩塌類型 縣市 鄉鎮 村里 災害地點 X Y 災害日期 潛勢溪流 有效雨量 L(mm/hr) 長 寬 高 崩塌面積(m2) 土砂堆積量 崩塌量體 死亡(人) 失蹤(人) 受傷(人) 房屋受損(棟) 道路毀損(m) \n",
    "resp_head = resp.find('thead')\n",
    "rr = resp_head.find_all('th')\n",
    "head = []\n",
    "for i in rr:\n",
    "    head.append(i.text)\n",
    "\n",
    "len(head)"
   ]
  },
  {
   "cell_type": "code",
   "execution_count": 28,
   "metadata": {},
   "outputs": [],
   "source": [
    "import pandas as pd\n",
    "\n",
    "# 將lists轉換成DataFrame\n",
    "df = pd.DataFrame(data, columns =head)\n",
    "\n",
    "df['災例最速報連結'] = link"
   ]
  },
  {
   "cell_type": "code",
   "execution_count": null,
   "metadata": {},
   "outputs": [],
   "source": []
  },
  {
   "cell_type": "code",
   "execution_count": 48,
   "metadata": {},
   "outputs": [
    {
     "name": "stdout",
     "output_type": "stream",
     "text": [
      "     順序    年度    災害事件                   名稱       崩塌類型   縣市   鄉鎮   村里  \\\n",
      "0     4  102年    康芮颱風    102年康芮颱風-基隆中正-002     崩塌(山崩)  基隆市  中正區  碧砂里   \n",
      "1    24  105年    梅姬颱風    105年梅姬颱風-高雄燕巢-001     崩塌(山崩)  高雄市  燕巢區  東燕里   \n",
      "2    63  101年    蘇拉颱風    101年蘇拉颱風-花蓮秀林-001        土石流  花蓮縣  秀林鄉  和平村   \n",
      "3    69  101年  0610豪雨  101年0610豪雨-台中和平-002         崩塌  臺中市  和平區  梨山里   \n",
      "4    91  104年   蘇迪勒颱風   104年蘇迪勒颱風-新北三峽-001  洪水、崩塌(山崩)  新北市  三峽區  竹崙里   \n",
      "5   102  102年    康芮颱風    102年康芮颱風-屏東獅子-001  崩塌(沖蝕)、洪水  屏東縣  獅子鄉  內獅村   \n",
      "6   109  104年   蘇迪勒颱風   104年蘇迪勒颱風-新北三峽-002     崩塌(沖蝕)  新北市  三峽區  金圳里   \n",
      "7   168  101年  0610豪雨  101年0610豪雨-南投仁愛-001         崩塌  南投縣  仁愛鄉  合作村   \n",
      "8   240  102年    康芮颱風    102年康芮颱風-台南新化-001     崩塌(山崩)  臺南市  新化區  大坑里   \n",
      "9   243  104年   蘇迪勒颱風   104年蘇迪勒颱風-新北新店-005        土石流  新北市  新店區  屈尺里   \n",
      "10  251  101年    蘇拉颱風    101年蘇拉颱風-宜蘭大同-002         崩塌  宜蘭縣  大同鄉  南山村   \n",
      "11  253  104年   蘇迪勒颱風   104年蘇迪勒颱風-新北烏來-007        土石流  新北市  烏來區  忠治里   \n",
      "\n",
      "                        災害地點       X  ...    高 崩塌面積(m2)  土砂堆積量   崩塌量體 死亡(人)  \\\n",
      "0                   台 2 線68K  329064  ...    1     4000          4000     0   \n",
      "1                中民路61巷3-22號  186260  ...    2     4350          8700     3   \n",
      "2                和仁山區龍崎火藥分銷庫  322954  ...                99000            1   \n",
      "3         林務局佳陽分站(台8 線69.5K)  271204  ...  1.5    12700         19050     2   \n",
      "4                    竹崙路162號  294215  ...    8     2000          6000     2   \n",
      "5                南迴鐵路枋山2 號隧道  216721  ...                        1000     0   \n",
      "6                 金圳里金敏54-2號  290897  ...    3     1200          3600     0   \n",
      "7        平生部落(台電屯原支41 號電線桿處)  270809  ...          1600                   2   \n",
      "8   大坑尾漢龍宮(大坑里3 鄰大坑尾102 之1號)  187252  ...    1      800           400     0   \n",
      "9                  新烏路二段193號  305454  ...                10000            0   \n",
      "10                    米羅產業道路  288715  ...  1.5    16000         24000     2   \n",
      "11               忠治里金堰113-2號  306327  ...                30000            0   \n",
      "\n",
      "   失蹤(人) 受傷(人) 房屋受損(棟) 道路毀損(m)  \\\n",
      "0      0     2       1     100   \n",
      "1      0     0       1      30   \n",
      "2      0     0       3     100   \n",
      "3      0     0       2      50   \n",
      "4      0     0       1      50   \n",
      "5      0    17       0     100   \n",
      "6      0     2       2       0   \n",
      "7      0     1       1      20   \n",
      "8      0     3       1       0   \n",
      "9      0     3       0       0   \n",
      "10     0     0       1     100   \n",
      "11     2     0       4      80   \n",
      "\n",
      "                                              災例最速報連結  \n",
      "0                                  javascript:void(0)  \n",
      "1   https://246.ardswc.gov.tw/AllFiles/PDF/105年梅姬颱...  \n",
      "2                                  javascript:void(0)  \n",
      "3                                  javascript:void(0)  \n",
      "4   https://246.ardswc.gov.tw/AllFiles/PDF/104年蘇迪勒...  \n",
      "5                                  javascript:void(0)  \n",
      "6   https://246.ardswc.gov.tw/AllFiles/PDF/104年蘇迪勒...  \n",
      "7                                  javascript:void(0)  \n",
      "8                                  javascript:void(0)  \n",
      "9   https://246.ardswc.gov.tw/AllFiles/PDF/104年蘇迪勒...  \n",
      "10                                 javascript:void(0)  \n",
      "11  https://246.ardswc.gov.tw/AllFiles/PDF/104年蘇迪勒...  \n",
      "\n",
      "[12 rows x 27 columns]\n"
     ]
    }
   ],
   "source": [
    "# 定義條件，例如選擇 死亡受傷與失蹤相加 大於 0 的行\n",
    "filter_df = pd.DataFrame(columns =head)\n",
    "for i in range(len(df['死亡(人)'])):\n",
    "    if int(df['死亡(人)'][i]) + int(df['失蹤(人)'][i]) + int(df['受傷(人)'][i])> 0:\n",
    "        filter_df = filter_df.append(df.iloc[i], ignore_index=True)   \n",
    "# 打印符合條件的 DataFrame\n",
    "print(filter_df)"
   ]
  },
  {
   "cell_type": "code",
   "execution_count": 49,
   "metadata": {},
   "outputs": [],
   "source": [
    "df.to_csv('disaster_20231115')\n",
    "filter_df.to_csv('filter_disaster_20231115')"
   ]
  }
 ],
 "metadata": {
  "kernelspec": {
   "display_name": "Python 3",
   "language": "python",
   "name": "python3"
  },
  "language_info": {
   "codemirror_mode": {
    "name": "ipython",
    "version": 3
   },
   "file_extension": ".py",
   "mimetype": "text/x-python",
   "name": "python",
   "nbconvert_exporter": "python",
   "pygments_lexer": "ipython3",
   "version": "3.8.5"
  }
 },
 "nbformat": 4,
 "nbformat_minor": 4
}
