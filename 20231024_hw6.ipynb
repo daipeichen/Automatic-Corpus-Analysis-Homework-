{
 "cells": [
  {
   "cell_type": "code",
   "execution_count": 16,
   "metadata": {},
   "outputs": [],
   "source": [
    "import requests\n",
    "url = 'https://www.tcll.ntnu.edu.tw/index.php/faculty/'\n",
    "resp = requests.get(url)\n",
    "\n",
    "page = resp.text"
   ]
  },
  {
   "cell_type": "code",
   "execution_count": 25,
   "metadata": {},
   "outputs": [
    {
     "name": "stdout",
     "output_type": "stream",
     "text": [
      "email list:\n",
      "shumeishih@ntnu.edu.tw\n",
      "hsuhj@ntnu.edu.tw\n",
      "fmlin@ntnu.edu.tw\n",
      "siokhui@ntnu.edu.tw\n",
      "longa@ntnu.edu.tw\n",
      "annheylen@ntnu.edu.tw\n",
      "nikkylin@ntnu.edu.tw\n",
      "yjchen@ntnu.edu.tw\n",
      "laalaapiano@ntnu.edu.tw\n",
      "ocean2013@ntnu.edu.tw\n",
      "senghian@ntnu.edu.tw\n",
      "irowen@ntnu.edu.tw\n",
      "libichhin@ntnu.edu.tw\n",
      "yuying.chuang@ntnu.edu.tw\n",
      "ptm106_10351@ntnu.edu.tw\n",
      "huibing@ntnu.edu.tw\n",
      "ptm110_13629@ntnu.edu.tw\n",
      "ptm112-15084@ntnu.edu.tw\n",
      "high221@ntnu.edu.tw\n",
      "issai@ntnu.edu.tw\n",
      "irenelu@ntnu.edu.tw\n",
      "tcll@ntnu.edu.tw\n",
      "t21005@ntnu.edu.tw\n",
      "khinhoan@ntnu.edu.tw\n",
      "peichen@ntnu.edu.tw\n",
      "taiwancenter@ntnu.edu.tw\n",
      "ccy325@ntnu.edu.tw\n",
      "tcll@ntnu.edu.tw\n"
     ]
    }
   ],
   "source": [
    "import re\n",
    "\n",
    "rule = re.compile(r'[a-zA-Z0-9._%+-]+@[a-zA-Z0-9.-]+\\.[a-zA-Z]{2,}')\n",
    "li = rule.findall(page)\n",
    "\n",
    "print('email list:')\n",
    "for i in range(len(li)):\n",
    "    if li[i] != li[i-1]:\n",
    "        print(li[i])"
   ]
  }
 ],
 "metadata": {
  "kernelspec": {
   "display_name": "Python 3",
   "language": "python",
   "name": "python3"
  },
  "language_info": {
   "codemirror_mode": {
    "name": "ipython",
    "version": 3
   },
   "file_extension": ".py",
   "mimetype": "text/x-python",
   "name": "python",
   "nbconvert_exporter": "python",
   "pygments_lexer": "ipython3",
   "version": "3.8.5"
  }
 },
 "nbformat": 4,
 "nbformat_minor": 4
}
