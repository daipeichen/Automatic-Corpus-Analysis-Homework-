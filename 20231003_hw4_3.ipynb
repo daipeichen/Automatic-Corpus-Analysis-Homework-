{
 "cells": [
  {
   "cell_type": "code",
   "execution_count": 12,
   "metadata": {},
   "outputs": [
    {
     "name": "stdout",
     "output_type": "stream",
     "text": [
      "\n",
      "請輸入一個數字:5\n",
      "5的因數有:\n",
      "1 5 \n",
      "請輸入一個數字:0\n",
      "不對唷！要輸入半形正整數數字才可以喔！\n",
      "\n",
      "請輸入一個數字:-1\n",
      "不對唷！要輸入半形正整數數字才可以喔！\n",
      "\n",
      "請輸入一個數字:a\n",
      "不對唷！要輸入半形正整數數字才可以喔！\n",
      "\n",
      "請輸入一個數字:12\n",
      "12的因數有:\n",
      "1 2 3 4 6 12 \n",
      "請輸入一個數字:\n",
      "已輸入空字串，結束程式。\n"
     ]
    }
   ],
   "source": [
    "while True:\n",
    "    try:\n",
    "        number = input('\\n請輸入一個數字:')\n",
    "\n",
    "        if number == \"\":\n",
    "            print(\"已輸入空字串，結束程式。\")\n",
    "            break\n",
    "            \n",
    "        number = int(number)\n",
    "        \n",
    "        if number <= 0:\n",
    "            print('不對唷！要輸入半形正整數數字才可以喔！')\n",
    "            continue\n",
    "        \n",
    "        factor = []\n",
    "        for i in range(1,number+1):\n",
    "            if number%i == 0:\n",
    "                factor.append(i)\n",
    "        print(f'{number}的因數有:')\n",
    "        for j in factor:\n",
    "            print(j, end = ' ')\n",
    "            \n",
    "    except:\n",
    "        print('不對唷！要輸入半形正整數數字才可以喔！')\n",
    "        \n",
    "\n",
    "        "
   ]
  },
  {
   "cell_type": "code",
   "execution_count": null,
   "metadata": {},
   "outputs": [],
   "source": []
  }
 ],
 "metadata": {
  "kernelspec": {
   "display_name": "Python 3",
   "language": "python",
   "name": "python3"
  },
  "language_info": {
   "codemirror_mode": {
    "name": "ipython",
    "version": 3
   },
   "file_extension": ".py",
   "mimetype": "text/x-python",
   "name": "python",
   "nbconvert_exporter": "python",
   "pygments_lexer": "ipython3",
   "version": "3.8.5"
  }
 },
 "nbformat": 4,
 "nbformat_minor": 4
}
