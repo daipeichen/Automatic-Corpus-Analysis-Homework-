{
 "cells": [
  {
   "cell_type": "code",
   "execution_count": 2,
   "metadata": {},
   "outputs": [
    {
     "name": "stdout",
     "output_type": "stream",
     "text": [
      "請猜一個1到100之間的數字：a\n",
      "不對唷！要輸入半形整數數字才可以喔！\n",
      "請猜一個1到100之間的數字：50\n",
      "太小囉！再猜猜看。\n",
      "請猜一個1到100之間的數字：60\n",
      "太大囉！再猜猜看。\n",
      "請猜一個1到100之間的數字：55\n",
      "太大囉！再猜猜看。\n",
      "請猜一個1到100之間的數字：53\n",
      "厲害耶！你猜到了唷！\n"
     ]
    }
   ],
   "source": [
    "import random\n",
    "target_number = random.randint(1,100)\n",
    "\n",
    "while True:\n",
    "    try:\n",
    "        guess_number = int(input('請猜一個1到100之間的數字：'))\n",
    "        if guess_number > target_number:\n",
    "            print('太大囉！再猜猜看。')\n",
    "            \n",
    "        if guess_number < target_number:\n",
    "            print('太小囉！再猜猜看。')\n",
    "            \n",
    "        if guess_number == target_number:\n",
    "            print('厲害耶！你猜到了唷！')\n",
    "            break\n",
    "    \n",
    "    \n",
    "    except:\n",
    "        print('不對唷！要輸入半形整數數字才可以喔！')\n"
   ]
  },
  {
   "cell_type": "code",
   "execution_count": null,
   "metadata": {},
   "outputs": [],
   "source": []
  }
 ],
 "metadata": {
  "kernelspec": {
   "display_name": "Python 3",
   "language": "python",
   "name": "python3"
  },
  "language_info": {
   "codemirror_mode": {
    "name": "ipython",
    "version": 3
   },
   "file_extension": ".py",
   "mimetype": "text/x-python",
   "name": "python",
   "nbconvert_exporter": "python",
   "pygments_lexer": "ipython3",
   "version": "3.8.5"
  }
 },
 "nbformat": 4,
 "nbformat_minor": 4
}
