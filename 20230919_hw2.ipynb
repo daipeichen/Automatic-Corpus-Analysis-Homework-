{
 "cells": [
  {
   "cell_type": "code",
   "execution_count": 4,
   "metadata": {},
   "outputs": [
    {
     "name": "stdout",
     "output_type": "stream",
     "text": [
      "5\n",
      "[2, 1, 3, 4, 0, 5]\n",
      "[1, 3, 4, 0, 5]\n",
      "[0, 1, 3, 4, 5]\n",
      "[5, 4, 3, 1, 0]\n",
      "2\n",
      "choose number:3\n",
      "number 3 is in the list.\n",
      "[5, 4, 3]\n",
      "(2, 1, 3, 4, 0)\n",
      "choose number:6\n",
      "number 6 is not in the tuple.\n",
      "(2, 1, 3)\n"
     ]
    }
   ],
   "source": [
    "#list串列：\n",
    "\n",
    "#建立一個數字串列並列印串列的長度。\n",
    "li = [2,1,3,4,0]\n",
    "print(len(li))\n",
    "\n",
    "#在串列的末尾新增一個數字並再次列印串列。\n",
    "li.append(5)\n",
    "print(li)\n",
    "\n",
    "#從串列中移除第一個數字並再次列印串列。\n",
    "del li[0]\n",
    "print(li)\n",
    "\n",
    "#將串列排序為升序並再次列印串列。\n",
    "li = sorted(li)\n",
    "print(li)\n",
    "\n",
    "#反轉串列並再次列印串列。\n",
    "li = li[::-1]\n",
    "print(li)\n",
    "\n",
    "#在串列中尋找一個數字的索引。\n",
    "print(li.index(3))\n",
    "\n",
    "#檢查一個數字是否在串列中。\n",
    "num = int(input('choose number:'))\n",
    "check_num = li.count(num)\n",
    "if check_num >0:\n",
    "    print ('number',num,'is in the list.')\n",
    "    \n",
    "else:\n",
    "    print('number',num,'is not in the list.')\n",
    "    \n",
    "#取得串列的切片。\n",
    "sliced = li[0:3]\n",
    "print(sliced)\n",
    "\n",
    "#tuple元組：\n",
    "\n",
    "#建立一個數字元組並列印元組。\n",
    "tur = (2,1,3,4,0)\n",
    "print(tur)\n",
    "\n",
    "#檢查一個數字是否在元組中。\n",
    "num = int(input('choose number:'))\n",
    "check_num = tur.count(num)\n",
    "if check_num >0:\n",
    "    print ('number',num,'is in the tuple.')\n",
    "    \n",
    "else:\n",
    "    print('number',num,'is not in the tuple.')\n",
    "    \n",
    "#取得元組的切片。\n",
    "sliced = tur[0:3]\n",
    "print(sliced)\n",
    "\n"
   ]
  },
  {
   "cell_type": "code",
   "execution_count": null,
   "metadata": {},
   "outputs": [],
   "source": []
  }
 ],
 "metadata": {
  "kernelspec": {
   "display_name": "Python 3",
   "language": "python",
   "name": "python3"
  },
  "language_info": {
   "codemirror_mode": {
    "name": "ipython",
    "version": 3
   },
   "file_extension": ".py",
   "mimetype": "text/x-python",
   "name": "python",
   "nbconvert_exporter": "python",
   "pygments_lexer": "ipython3",
   "version": "3.8.5"
  }
 },
 "nbformat": 4,
 "nbformat_minor": 4
}
