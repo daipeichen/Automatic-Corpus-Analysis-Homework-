{
 "cells": [
  {
   "cell_type": "code",
   "execution_count": 4,
   "metadata": {},
   "outputs": [
    {
     "name": "stdout",
     "output_type": "stream",
     "text": [
      "{0, 1, 2}\n",
      "{0, 1, 2, 6}\n",
      "{0, 1, 6}\n",
      "True\n",
      "{'a': 20, 'b': 15, 'c': 67}\n",
      "{'a': 20, 'b': 15, 'c': 67, 'd': 27}\n",
      "15\n"
     ]
    }
   ],
   "source": [
    "#set集合：\n",
    "\n",
    "#建立一個數字集合並列印集合。\n",
    "myset = {0, 1, 2}\n",
    "print(myset)\n",
    "\n",
    "#在集合中新增一個數字並再次列印集合。\n",
    "myset.add(6)\n",
    "print(myset)\n",
    "\n",
    "#從集合中移除一個數字並再次列印集合。\n",
    "myset.remove(2)\n",
    "print(myset)\n",
    "\n",
    "#檢查一個數字是否在集合中。\n",
    "print(1 in myset)\n",
    "\n",
    "#dict字典：\n",
    "\n",
    "#建立一個名字和年齡的字典並列印字典。\n",
    "dic = {'a': 20,'b':15,'c':67}\n",
    "print(dic)\n",
    "\n",
    "#在字典中新增一個新的名字和年齡並再次列印字典。\n",
    "dic['d'] = 27\n",
    "print(dic)\n",
    "\n",
    "#從字典中取得一個名字的年齡。\n",
    "print(dic['b'])"
   ]
  },
  {
   "cell_type": "code",
   "execution_count": null,
   "metadata": {},
   "outputs": [],
   "source": []
  }
 ],
 "metadata": {
  "kernelspec": {
   "display_name": "Python 3",
   "language": "python",
   "name": "python3"
  },
  "language_info": {
   "codemirror_mode": {
    "name": "ipython",
    "version": 3
   },
   "file_extension": ".py",
   "mimetype": "text/x-python",
   "name": "python",
   "nbconvert_exporter": "python",
   "pygments_lexer": "ipython3",
   "version": "3.8.5"
  }
 },
 "nbformat": 4,
 "nbformat_minor": 4
}
