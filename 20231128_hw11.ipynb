{
 "cells": [
  {
   "cell_type": "code",
   "execution_count": 11,
   "metadata": {
    "id": "qvjlfyVXWdAs"
   },
   "outputs": [
    {
     "name": "stdout",
     "output_type": "stream",
     "text": [
      "請輸入公司代碼：（按Enter結束）2881\n",
      "請輸入公司代碼：（按Enter結束）5880\n",
      "請輸入公司代碼：（按Enter結束）6005\n",
      "請輸入公司代碼：（按Enter結束）\n"
     ]
    },
    {
     "data": {
      "text/plain": [
       "['2881', '5880', '6005']"
      ]
     },
     "execution_count": 11,
     "metadata": {},
     "output_type": "execute_result"
    }
   ],
   "source": [
    "# 由使用者輸入任意數量的公司代碼\n",
    "\n",
    "cos = []\n",
    "\n",
    "while True:\n",
    "    co = input('請輸入公司代碼：（按Enter結束）')\n",
    "    if co == '':\n",
    "        break\n",
    "    else:\n",
    "        cos.append(co)\n",
    "\n",
    "cos"
   ]
  },
  {
   "cell_type": "code",
   "execution_count": 16,
   "metadata": {},
   "outputs": [],
   "source": [
    "from datetime import datetime\n",
    "\n",
    "year = int(datetime.now().strftime('%Y'))-1911\n",
    "\n",
    "month = int(datetime.now().strftime('%m'))-1\n",
    "#公司代號、公司名稱\n",
    "api_url_1 = 'https://mops.twse.com.tw/mops/web/ajax_autoComplete'\n",
    "\n",
    "api_url_2 = 'https://mops.twse.com.tw/mops/web/ajax_t05st10_ifrs'\n",
    "\n",
    "Id = []\n",
    "name = []\n",
    "money = []\n",
    "ty = []\n",
    "ly = []\n",
    "\n",
    "# requests method不是get，要用post\n",
    "import requests\n",
    "from bs4 import BeautifulSoup\n",
    "\n",
    "for i in range(len(cos)):\n",
    "    stk = cos[i]\n",
    "    form_data_1 = {\n",
    "    'encodeURIComponent': 1,\n",
    "    'step': 1,\n",
    "    'firstin': 1,\n",
    "    'off': 1,\n",
    "    'keyword4': None,\n",
    "    'code1': None,\n",
    "    'TYPEK2': None,\n",
    "    'checkbtn': None,\n",
    "    'queryName': stk ,\n",
    "    'inpuType': stk ,\n",
    "    'TYPEK': all,\n",
    "    'isnew': True,\n",
    "    'co_id': stk ,\n",
    "    'year':1, \n",
    "    'month': 1}\n",
    "\n",
    "    resp = requests.post(api_url_1, form_data_1)\n",
    "    soup=BeautifulSoup(resp.text, 'lxml')\n",
    "    \n",
    "    id_name = soup.find_all('li')[1].text.split(' ')\n",
    "\n",
    "    Id.append(id_name[0])\n",
    "    name.append(id_name[1])\n",
    "    # 用try/error判斷是否是金融股的那幾隻\n",
    "    \n",
    "    try: \n",
    "        form_data_2 = {\n",
    "        'encodeURIComponent': 1,\n",
    "        'step': 1,\n",
    "        'firstin': 1,\n",
    "        'off': 1,\n",
    "        'keyword4': None,\n",
    "        'code1': None,\n",
    "        'TYPEK2': None,\n",
    "        'checkbtn': None,\n",
    "        'queryName': stk ,\n",
    "        'inpuType': stk ,\n",
    "        'TYPEK': all,\n",
    "        'isnew': True,\n",
    "        'co_id': stk ,\n",
    "        'year':year, \n",
    "        'month': month}\n",
    "    \n",
    "        resp = requests.post(api_url_2, form_data_2)\n",
    "        soup=BeautifulSoup(resp.text, 'lxml')\n",
    "    \n",
    "        money.append(soup.find('td',{'class':'odd'}).text.split(' ')[-1])\n",
    "\n",
    "        even = soup.find_all('td',{'class':'even'})\n",
    "        ty.append(even[1].text.split(' ')[-1])\n",
    "\n",
    "        ly.append(even[3].text.split(' ')[-1])\n",
    "    \n",
    "    #發現只要調整formdata就能抓到資料\n",
    "    except Exception:    \n",
    "        form_data_3 = {\n",
    "        'encodeURIComponent': 1,\n",
    "        'step': 0,\n",
    "        'firstin': 1,\n",
    "        'off': 1,\n",
    "        'yearmonth': 11210,\n",
    "        'co_id': stk ,\n",
    "        'year':112, \n",
    "        'month': 10}\n",
    "        resp = requests.post(api_url_2, form_data_3)\n",
    "        soup=BeautifulSoup(resp.text, 'lxml')\n",
    "\n",
    "        money.append(soup.find('td',{'class':'odd'}).text.split(' ')[-1])\n",
    "\n",
    "        even = soup.find_all('td',{'class':'even'})\n",
    "        ty.append(even[1].text.split(' ')[-1])\n",
    "\n",
    "        ly.append(even[3].text.split(' ')[-1])\n",
    "\n",
    "\n",
    "\n",
    "\n"
   ]
  },
  {
   "cell_type": "markdown",
   "metadata": {
    "id": "Af8E7QFCbi5R"
   },
   "source": [
    "欄位：公司代號、公司名稱、本月營收金額、增減百分比（本月）、增減百分比（累計）"
   ]
  },
  {
   "cell_type": "code",
   "execution_count": 17,
   "metadata": {},
   "outputs": [
    {
     "data": {
      "text/html": [
       "<div>\n",
       "<style scoped>\n",
       "    .dataframe tbody tr th:only-of-type {\n",
       "        vertical-align: middle;\n",
       "    }\n",
       "\n",
       "    .dataframe tbody tr th {\n",
       "        vertical-align: top;\n",
       "    }\n",
       "\n",
       "    .dataframe thead th {\n",
       "        text-align: right;\n",
       "    }\n",
       "</style>\n",
       "<table border=\"1\" class=\"dataframe\">\n",
       "  <thead>\n",
       "    <tr style=\"text-align: right;\">\n",
       "      <th></th>\n",
       "      <th>公司代號</th>\n",
       "      <th>公司名稱</th>\n",
       "      <th>本月營收金額</th>\n",
       "      <th>增減百分比（本月）</th>\n",
       "      <th>增減百分比（累計）</th>\n",
       "    </tr>\n",
       "  </thead>\n",
       "  <tbody>\n",
       "    <tr>\n",
       "      <th>0</th>\n",
       "      <td>2881</td>\n",
       "      <td>富邦金</td>\n",
       "      <td>13,798,462</td>\n",
       "      <td>335.47</td>\n",
       "      <td>-41.24</td>\n",
       "    </tr>\n",
       "    <tr>\n",
       "      <th>1</th>\n",
       "      <td>5880</td>\n",
       "      <td>合庫金</td>\n",
       "      <td>4,670,175</td>\n",
       "      <td>14.23</td>\n",
       "      <td>18.36</td>\n",
       "    </tr>\n",
       "    <tr>\n",
       "      <th>2</th>\n",
       "      <td>6005</td>\n",
       "      <td>群益證</td>\n",
       "      <td>901,164</td>\n",
       "      <td>79.90</td>\n",
       "      <td>59.66</td>\n",
       "    </tr>\n",
       "  </tbody>\n",
       "</table>\n",
       "</div>"
      ],
      "text/plain": [
       "   公司代號 公司名稱      本月營收金額 增減百分比（本月） 增減百分比（累計）\n",
       "0  2881  富邦金  13,798,462    335.47    -41.24\n",
       "1  5880  合庫金   4,670,175     14.23     18.36\n",
       "2  6005  群益證     901,164     79.90     59.66"
      ]
     },
     "execution_count": 17,
     "metadata": {},
     "output_type": "execute_result"
    }
   ],
   "source": [
    "import pandas as pd\n",
    "\n",
    "d = {'公司代號':Id,\n",
    "        '公司名稱':name,\n",
    "        '本月營收金額':money,\n",
    "        '增減百分比（本月）':ty,\n",
    "        '增減百分比（累計）':ly\n",
    "}\n",
    "\n",
    "df = pd.DataFrame(d)\n",
    "df"
   ]
  },
  {
   "cell_type": "code",
   "execution_count": 18,
   "metadata": {},
   "outputs": [],
   "source": [
    "# 用今天的日期來做為檔名\n",
    "\n",
    "from datetime import datetime\n",
    "\n",
    "date=datetime.now().strftime('%Y-%m-%d')  # m要用小寫字，因大本字是指分鐘\n",
    "\n",
    "df.to_csv(f'公司最新營收資料_{date}.csv',encoding='utf-8-sig')"
   ]
  },
  {
   "cell_type": "code",
   "execution_count": null,
   "metadata": {},
   "outputs": [],
   "source": []
  }
 ],
 "metadata": {
  "colab": {
   "provenance": []
  },
  "kernelspec": {
   "display_name": "Python 3",
   "language": "python",
   "name": "python3"
  },
  "language_info": {
   "codemirror_mode": {
    "name": "ipython",
    "version": 3
   },
   "file_extension": ".py",
   "mimetype": "text/x-python",
   "name": "python",
   "nbconvert_exporter": "python",
   "pygments_lexer": "ipython3",
   "version": "3.8.5"
  }
 },
 "nbformat": 4,
 "nbformat_minor": 1
}
