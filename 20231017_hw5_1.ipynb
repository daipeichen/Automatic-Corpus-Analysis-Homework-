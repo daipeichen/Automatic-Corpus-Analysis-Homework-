{
 "cells": [
  {
   "cell_type": "code",
   "execution_count": 21,
   "metadata": {},
   "outputs": [
    {
     "name": "stdout",
     "output_type": "stream",
     "text": [
      "請輸入您的Email: pat89@ntu@derw\n",
      "email格式輸入錯誤，請重新輸入您的Email: pat8966@gmail.com\n",
      "email格式輸入正確\n"
     ]
    }
   ],
   "source": [
    "import re\n",
    "\n",
    "rule = re.compile(r'^[a-zA-Z0-9._%+-]+@[a-zA-Z0-9.-]+\\.[a-zA-Z]{2,}$')  #建立email規則\n",
    "email = input('請輸入您的Email: ')  #要求使用者提供email\n",
    "\n",
    "li = rule.findall(email)  #檢查email是否符合規則。若符合的話li應該會存入一組email；不符合的話則會是一個空串列\n",
    "\n",
    "while len(li) ==0:  #測試li是否友值。如果email不符合規則則重複請使用者再提供email\n",
    "    email = input('email格式輸入錯誤，請重新輸入您的Email: ')\n",
    "    li = rule.findall(email)\n",
    "print('email格式輸入正確')\n"
   ]
  }
 ],
 "metadata": {
  "kernelspec": {
   "display_name": "Python 3",
   "language": "python",
   "name": "python3"
  },
  "language_info": {
   "codemirror_mode": {
    "name": "ipython",
    "version": 3
   },
   "file_extension": ".py",
   "mimetype": "text/x-python",
   "name": "python",
   "nbconvert_exporter": "python",
   "pygments_lexer": "ipython3",
   "version": "3.8.5"
  }
 },
 "nbformat": 4,
 "nbformat_minor": 4
}
