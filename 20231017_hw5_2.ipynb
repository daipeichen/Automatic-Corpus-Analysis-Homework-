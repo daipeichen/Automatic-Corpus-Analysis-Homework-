{
 "cells": [
  {
   "cell_type": "code",
   "execution_count": 11,
   "metadata": {},
   "outputs": [],
   "source": [
    "def printTable(tableData):\n",
    "    \n",
    "    colWidths=[0] * len(tableData)\n",
    "    \n",
    "    for i in range(len(tableData)):\n",
    "        colWidths[i] = len(max(tableData[i], key=len))\n",
    "    \n",
    "    for j in range(len(tableData[0])):\n",
    "        for i in range(len(tableData)):\n",
    "            print(tableData[i][j].rjust(colWidths[i]), end=\" \")\n",
    "        print('\\n')"
   ]
  },
  {
   "cell_type": "code",
   "execution_count": 12,
   "metadata": {},
   "outputs": [
    {
     "name": "stdout",
     "output_type": "stream",
     "text": [
      "  apples Alice  dogs \n",
      "\n",
      " oranges   Bob  cats \n",
      "\n",
      "cherries Carol moose \n",
      "\n",
      "  banana David goose \n",
      "\n"
     ]
    }
   ],
   "source": [
    "tableData = [['apples', 'oranges', 'cherries', 'banana'],\n",
    "['Alice', 'Bob', 'Carol', 'David'],\n",
    "['dogs', 'cats', 'moose', 'goose']]\n",
    "\n",
    "\n",
    "printTable(tableData)"
   ]
  }
 ],
 "metadata": {
  "kernelspec": {
   "display_name": "Python 3",
   "language": "python",
   "name": "python3"
  },
  "language_info": {
   "codemirror_mode": {
    "name": "ipython",
    "version": 3
   },
   "file_extension": ".py",
   "mimetype": "text/x-python",
   "name": "python",
   "nbconvert_exporter": "python",
   "pygments_lexer": "ipython3",
   "version": "3.8.5"
  }
 },
 "nbformat": 4,
 "nbformat_minor": 4
}
