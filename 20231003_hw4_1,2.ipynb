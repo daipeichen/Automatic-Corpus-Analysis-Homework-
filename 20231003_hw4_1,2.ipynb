{
 "cells": [
  {
   "cell_type": "code",
   "execution_count": 23,
   "metadata": {},
   "outputs": [],
   "source": [
    "#問題一函數\n",
    "def displayInventory(inventory):\n",
    "    n = 0\n",
    "    print('裝備:')\n",
    "    for i in inventory:\n",
    "        print(inventory[i],i)\n",
    "        n+=inventory[i]\n",
    "        \n",
    "    print('裝備總數:', n)\n",
    "    \n",
    "#問題二函數\n",
    "def addToInventory(inventory, addedItems):\n",
    "    for i in addedItems:\n",
    "        if i in inventory:\n",
    "            inventory[i]+=1\n",
    "            \n",
    "        else:\n",
    "            inventory[i]=1\n",
    "    return inventory       \n"
   ]
  },
  {
   "cell_type": "code",
   "execution_count": 24,
   "metadata": {},
   "outputs": [
    {
     "name": "stdout",
     "output_type": "stream",
     "text": [
      "裝備:\n",
      "1 索仔\n",
      "6 火把\n",
      "42 銀角仔\n",
      "1 刀仔\n",
      "12 箭\n",
      "裝備總數: 62\n"
     ]
    }
   ],
   "source": [
    "#問題一\n",
    "inv = {'索仔': 1, '火把': 6, '銀角仔': 42, '刀仔': 1, '箭': 12}\n",
    "displayInventory(inv)"
   ]
  },
  {
   "cell_type": "code",
   "execution_count": 25,
   "metadata": {},
   "outputs": [
    {
     "name": "stdout",
     "output_type": "stream",
     "text": [
      "裝備:\n",
      "1 索仔\n",
      "6 火把\n",
      "45 銀角仔\n",
      "2 刀仔\n",
      "12 箭\n",
      "1 紅寶石\n",
      "裝備總數: 67\n"
     ]
    }
   ],
   "source": [
    "#問題二\n",
    "inv = {'索仔': 1, '火把': 6, '銀角仔': 42, '刀仔': 1, '箭': 12}\n",
    "dragonLoot = ['銀角仔', '刀仔', '銀角仔', '銀角仔', '紅寶石']\n",
    "inv = addToInventory(inv, dragonLoot)\n",
    "displayInventory(inv)"
   ]
  }
 ],
 "metadata": {
  "kernelspec": {
   "display_name": "Python 3",
   "language": "python",
   "name": "python3"
  },
  "language_info": {
   "codemirror_mode": {
    "name": "ipython",
    "version": 3
   },
   "file_extension": ".py",
   "mimetype": "text/x-python",
   "name": "python",
   "nbconvert_exporter": "python",
   "pygments_lexer": "ipython3",
   "version": "3.8.5"
  }
 },
 "nbformat": 4,
 "nbformat_minor": 4
}
