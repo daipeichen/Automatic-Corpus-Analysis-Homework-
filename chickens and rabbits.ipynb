{
 "cells": [
  {
   "cell_type": "code",
   "execution_count": 4,
   "metadata": {},
   "outputs": [
    {
     "name": "stdout",
     "output_type": "stream",
     "text": [
      "How many animals in the cage?3\n",
      "How many feet in the cage?10\n",
      "There are 2 rabbits and 1 chickens in the cage.\n"
     ]
    }
   ],
   "source": [
    "#輸入動物與腳的數量\n",
    "total_animals = int(input('How many animals in the cage?'))\n",
    "total_feet = int(input('How many feet in the cage?'))\n",
    "\n",
    "#計算兔子跟雞數量\n",
    "num_rabbits = (total_feet - 2*total_animals)/2\n",
    "\n",
    "num_chickens = total_animals - num_rabbits\n",
    "\n",
    "#輸出結果\n",
    "print('There are', int(num_rabbits), 'rabbits and', int(num_chickens), 'chickens in the cage.')"
   ]
  },
  {
   "cell_type": "code",
   "execution_count": null,
   "metadata": {},
   "outputs": [],
   "source": []
  }
 ],
 "metadata": {
  "kernelspec": {
   "display_name": "Python 3",
   "language": "python",
   "name": "python3"
  },
  "language_info": {
   "codemirror_mode": {
    "name": "ipython",
    "version": 3
   },
   "file_extension": ".py",
   "mimetype": "text/x-python",
   "name": "python",
   "nbconvert_exporter": "python",
   "pygments_lexer": "ipython3",
   "version": "3.8.5"
  }
 },
 "nbformat": 4,
 "nbformat_minor": 4
}
