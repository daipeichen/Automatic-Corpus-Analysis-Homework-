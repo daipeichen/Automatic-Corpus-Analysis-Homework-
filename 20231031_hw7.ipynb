{
 "cells": [
  {
   "cell_type": "code",
   "execution_count": 4,
   "metadata": {},
   "outputs": [],
   "source": [
    "from tool import get_soup"
   ]
  },
  {
   "cell_type": "code",
   "execution_count": 5,
   "metadata": {},
   "outputs": [],
   "source": [
    "url = 'https://tw-nba.udn.com/nba/cate/6754'\n",
    "\n",
    "soup = get_soup(url)"
   ]
  },
  {
   "cell_type": "code",
   "execution_count": 6,
   "metadata": {},
   "outputs": [],
   "source": [
    "soup2 = soup.find('div',{'id': 'news_list_body'})\n",
    "soup3 = soup2.find_all('dt')"
   ]
  },
  {
   "cell_type": "code",
   "execution_count": 7,
   "metadata": {},
   "outputs": [
    {
     "name": "stdout",
     "output_type": "stream",
     "text": [
      "10\n"
     ]
    }
   ],
   "source": [
    "title = []\n",
    "abstract = []\n",
    "link = []\n",
    "img = []\n",
    "\n",
    "for i in soup3:\n",
    "    title.append(i.find('h3').text)\n",
    "    abstract.append(i.find('p').text)\n",
    "    link.append(i.find('a').get('href'))\n",
    "    img.append(i.find('img').get('data-src'))\n",
    "print(len(img))    "
   ]
  },
  {
   "cell_type": "code",
   "execution_count": 8,
   "metadata": {},
   "outputs": [
    {
     "data": {
      "text/html": [
       "<div>\n",
       "<style scoped>\n",
       "    .dataframe tbody tr th:only-of-type {\n",
       "        vertical-align: middle;\n",
       "    }\n",
       "\n",
       "    .dataframe tbody tr th {\n",
       "        vertical-align: top;\n",
       "    }\n",
       "\n",
       "    .dataframe thead th {\n",
       "        text-align: right;\n",
       "    }\n",
       "</style>\n",
       "<table border=\"1\" class=\"dataframe\">\n",
       "  <thead>\n",
       "    <tr style=\"text-align: right;\">\n",
       "      <th></th>\n",
       "      <th>title</th>\n",
       "      <th>abstract</th>\n",
       "      <th>link</th>\n",
       "      <th>img</th>\n",
       "    </tr>\n",
       "  </thead>\n",
       "  <tbody>\n",
       "    <tr>\n",
       "      <th>0</th>\n",
       "      <td>NBA／同為3年效力4隊！哈登、衛少第3次合體拚總冠軍</td>\n",
       "      <td>在美東時間凌晨時分，哈登（James Harden）被交易到快艇的消息可說是震撼整個聯盟，話...</td>\n",
       "      <td>https://tw-nba.udn.com/nba/story/7002/7542304</td>\n",
       "      <td>https://pgw.udn.com.tw/gw/photo.php?u=https://...</td>\n",
       "    </tr>\n",
       "    <tr>\n",
       "      <th>1</th>\n",
       "      <td>NBA／尷尬了！費城射手想搭哈登交易列車 快艇76人皆反對</td>\n",
       "      <td>快艇與76人商討許久原本看似破局的哈登（James Harden）交易案，最後峰迴路轉，在深...</td>\n",
       "      <td>https://tw-nba.udn.com/nba/story/7002/7542162</td>\n",
       "      <td>https://pgw.udn.com.tw/gw/photo.php?u=https://...</td>\n",
       "    </tr>\n",
       "    <tr>\n",
       "      <th>2</th>\n",
       "      <td>NBA／太平洋組火藥庫！17人全明星、5名MVP、8位75大球星</td>\n",
       "      <td>「大鬍子」哈登（James Harden）今天被交易到快艇，撼動聯盟版圖，更讓太平洋組5支球...</td>\n",
       "      <td>https://tw-nba.udn.com/nba/story/7002/7542039</td>\n",
       "      <td>https://pgw.udn.com.tw/gw/photo.php?u=https://...</td>\n",
       "    </tr>\n",
       "    <tr>\n",
       "      <th>3</th>\n",
       "      <td>NBA／打包閃人！得知交易達成興奮難耐 傳哈登迫不及待想飛往洛城</td>\n",
       "      <td>NBA今天傳出震撼彈，明星後衛「大鬍子」哈登（James Harden）將和被交易到快艇，組...</td>\n",
       "      <td>https://tw-nba.udn.com/nba/story/7002/7542038</td>\n",
       "      <td>https://pgw.udn.com.tw/gw/photo.php?u=https://...</td>\n",
       "    </tr>\n",
       "    <tr>\n",
       "      <th>4</th>\n",
       "      <td>NBA／湖人循序漸進創造化學效應 羅素：需要時間淬鍊</td>\n",
       "      <td>洛杉磯湖人今天回到主場背靠背出賽迎戰奧蘭多魔術，靠著戴維斯（Anthony Davis）拿下...</td>\n",
       "      <td>https://tw-nba.udn.com/nba/story/7002/7541908</td>\n",
       "      <td>https://pgw.udn.com.tw/gw/photo.php?u=https://...</td>\n",
       "    </tr>\n",
       "    <tr>\n",
       "      <th>5</th>\n",
       "      <td>NBA／灰熊雙星60分還是輸 唐西奇35分大三元助獨行俠3連勝</td>\n",
       "      <td>獨行俠球星唐西奇（Luka Doncic）本季拿出爭奪MVP的氣勢，他今天再度繳出35分12...</td>\n",
       "      <td>https://tw-nba.udn.com/nba/story/7002/7541961</td>\n",
       "      <td>https://pgw.udn.com.tw/gw/photo.php?u=https://...</td>\n",
       "    </tr>\n",
       "    <tr>\n",
       "      <th>6</th>\n",
       "      <td>NBA／預約2025年選秀狀元 高中側翼怪物加入杜克大學</td>\n",
       "      <td>籃壇未來怪物即將投向杜克大學，他是2025年NBA預測選秀狀元的佛萊格！16歲的天才前鋒佛萊...</td>\n",
       "      <td>https://tw-nba.udn.com/nba/story/7002/7541410</td>\n",
       "      <td>https://pgw.udn.com.tw/gw/photo.php?u=https://...</td>\n",
       "    </tr>\n",
       "    <tr>\n",
       "      <th>7</th>\n",
       "      <td>NBA／近3戰轟20記三分彈 柯瑞準到鵜鶘球迷倒戈</td>\n",
       "      <td>前幾季因傷病沒能在紐奧良出賽，勇士隊當家球星柯瑞（Stephen Curry）今天雖是客場出...</td>\n",
       "      <td>https://tw-nba.udn.com/nba/story/7002/7541914</td>\n",
       "      <td>https://pgw.udn.com.tw/gw/photo.php?u=https://...</td>\n",
       "    </tr>\n",
       "    <tr>\n",
       "      <th>8</th>\n",
       "      <td>NBA／怒罵莫雷「騙子」 哈登大罷工如願加入豪華快艇團</td>\n",
       "      <td>消息人士告訴《ESPN》知名記者沃納羅斯基（Adrian Wojnarowski），費城76...</td>\n",
       "      <td>https://tw-nba.udn.com/nba/story/7002/7541773</td>\n",
       "      <td>https://pgw.udn.com.tw/gw/photo.php?u=https://...</td>\n",
       "    </tr>\n",
       "    <tr>\n",
       "      <th>9</th>\n",
       "      <td>NBA／四狀元罕見同場對決 榜眼羅素率湖人斬魔術搶盡鋒頭</td>\n",
       "      <td>今天湖人隊在主場「背靠背」迎戰魔術隊，兩隊全場一路拉据到末節才分出勝負，湖人靠著羅素（D'...</td>\n",
       "      <td>https://tw-nba.udn.com/nba/story/7002/7541785</td>\n",
       "      <td>https://pgw.udn.com.tw/gw/photo.php?u=https://...</td>\n",
       "    </tr>\n",
       "  </tbody>\n",
       "</table>\n",
       "</div>"
      ],
      "text/plain": [
       "                              title  \\\n",
       "0       NBA／同為3年效力4隊！哈登、衛少第3次合體拚總冠軍   \n",
       "1     NBA／尷尬了！費城射手想搭哈登交易列車 快艇76人皆反對   \n",
       "2  NBA／太平洋組火藥庫！17人全明星、5名MVP、8位75大球星   \n",
       "3  NBA／打包閃人！得知交易達成興奮難耐 傳哈登迫不及待想飛往洛城   \n",
       "4        NBA／湖人循序漸進創造化學效應 羅素：需要時間淬鍊   \n",
       "5   NBA／灰熊雙星60分還是輸 唐西奇35分大三元助獨行俠3連勝   \n",
       "6      NBA／預約2025年選秀狀元 高中側翼怪物加入杜克大學   \n",
       "7         NBA／近3戰轟20記三分彈 柯瑞準到鵜鶘球迷倒戈   \n",
       "8       NBA／怒罵莫雷「騙子」 哈登大罷工如願加入豪華快艇團   \n",
       "9      NBA／四狀元罕見同場對決 榜眼羅素率湖人斬魔術搶盡鋒頭   \n",
       "\n",
       "                                            abstract  \\\n",
       "0  在美東時間凌晨時分，哈登（James Harden）被交易到快艇的消息可說是震撼整個聯盟，話...   \n",
       "1  快艇與76人商討許久原本看似破局的哈登（James Harden）交易案，最後峰迴路轉，在深...   \n",
       "2  「大鬍子」哈登（James Harden）今天被交易到快艇，撼動聯盟版圖，更讓太平洋組5支球...   \n",
       "3  NBA今天傳出震撼彈，明星後衛「大鬍子」哈登（James Harden）將和被交易到快艇，組...   \n",
       "4  洛杉磯湖人今天回到主場背靠背出賽迎戰奧蘭多魔術，靠著戴維斯（Anthony Davis）拿下...   \n",
       "5  獨行俠球星唐西奇（Luka Doncic）本季拿出爭奪MVP的氣勢，他今天再度繳出35分12...   \n",
       "6  籃壇未來怪物即將投向杜克大學，他是2025年NBA預測選秀狀元的佛萊格！16歲的天才前鋒佛萊...   \n",
       "7  前幾季因傷病沒能在紐奧良出賽，勇士隊當家球星柯瑞（Stephen Curry）今天雖是客場出...   \n",
       "8  消息人士告訴《ESPN》知名記者沃納羅斯基（Adrian Wojnarowski），費城76...   \n",
       "9   今天湖人隊在主場「背靠背」迎戰魔術隊，兩隊全場一路拉据到末節才分出勝負，湖人靠著羅素（D'...   \n",
       "\n",
       "                                            link  \\\n",
       "0  https://tw-nba.udn.com/nba/story/7002/7542304   \n",
       "1  https://tw-nba.udn.com/nba/story/7002/7542162   \n",
       "2  https://tw-nba.udn.com/nba/story/7002/7542039   \n",
       "3  https://tw-nba.udn.com/nba/story/7002/7542038   \n",
       "4  https://tw-nba.udn.com/nba/story/7002/7541908   \n",
       "5  https://tw-nba.udn.com/nba/story/7002/7541961   \n",
       "6  https://tw-nba.udn.com/nba/story/7002/7541410   \n",
       "7  https://tw-nba.udn.com/nba/story/7002/7541914   \n",
       "8  https://tw-nba.udn.com/nba/story/7002/7541773   \n",
       "9  https://tw-nba.udn.com/nba/story/7002/7541785   \n",
       "\n",
       "                                                 img  \n",
       "0  https://pgw.udn.com.tw/gw/photo.php?u=https://...  \n",
       "1  https://pgw.udn.com.tw/gw/photo.php?u=https://...  \n",
       "2  https://pgw.udn.com.tw/gw/photo.php?u=https://...  \n",
       "3  https://pgw.udn.com.tw/gw/photo.php?u=https://...  \n",
       "4  https://pgw.udn.com.tw/gw/photo.php?u=https://...  \n",
       "5  https://pgw.udn.com.tw/gw/photo.php?u=https://...  \n",
       "6  https://pgw.udn.com.tw/gw/photo.php?u=https://...  \n",
       "7  https://pgw.udn.com.tw/gw/photo.php?u=https://...  \n",
       "8  https://pgw.udn.com.tw/gw/photo.php?u=https://...  \n",
       "9  https://pgw.udn.com.tw/gw/photo.php?u=https://...  "
      ]
     },
     "execution_count": 8,
     "metadata": {},
     "output_type": "execute_result"
    }
   ],
   "source": [
    "import pandas as pd\n",
    "data = {\n",
    "    'title': title,\n",
    "    'abstract': abstract,\n",
    "    'link': link,\n",
    "    'img': img\n",
    "}\n",
    "\n",
    "df = pd.DataFrame(data)\n",
    "df"
   ]
  },
  {
   "cell_type": "code",
   "execution_count": 9,
   "metadata": {},
   "outputs": [],
   "source": [
    "df.to_csv('nba_news_udn.csv', encoding = 'utf-8')"
   ]
  }
 ],
 "metadata": {
  "kernelspec": {
   "display_name": "Python 3",
   "language": "python",
   "name": "python3"
  },
  "language_info": {
   "codemirror_mode": {
    "name": "ipython",
    "version": 3
   },
   "file_extension": ".py",
   "mimetype": "text/x-python",
   "name": "python",
   "nbconvert_exporter": "python",
   "pygments_lexer": "ipython3",
   "version": "3.8.5"
  }
 },
 "nbformat": 4,
 "nbformat_minor": 4
}
